{
 "cells": [
  {
   "cell_type": "code",
   "execution_count": null,
   "id": "d37e85d3",
   "metadata": {
    "vscode": {
     "languageId": "plaintext"
    }
   },
   "outputs": [],
   "source": [
    "import pytest\n",
    "from httpx import AsyncClient\n",
    "\n",
    "BASE_URL = \"https://cima.aemps.es/cima/rest\"\n",
    "\n",
    "@pytest.mark.asyncio\n",
    "async def test_doc_secciones_tipo_doc_int_correcto():\n",
    "    \"\"\"\n",
    "    Verifica que /docSegmentado/secciones/1?nregistro=51347\n",
    "    devuelve una lista de secciones para ficha técnica.\n",
    "    \"\"\"\n",
    "    async with AsyncClient(base_url=BASE_URL) as client:\n",
    "        resp = await client.get(\"/docSegmentado/secciones/1\", params={\"nregistro\": \"51347\"})\n",
    "    assert resp.status_code == 200\n",
    "    data = resp.json()\n",
    "    # Debe ser una lista de objetos con campos 'seccion', 'titulo' y 'orden'\n",
    "    assert isinstance(data, list)\n",
    "    assert all(\"seccion\" in item and \"titulo\" in item and \"orden\" in item for item in data)\n",
    "\n",
    "@pytest.mark.asyncio\n",
    "async def test_doc_contenido_tipo_doc_int_invalido():\n",
    "    \"\"\"\n",
    "    Verifica que pasar un tipoDoc no entero (p.ej. 'abc') produce un 400 Bad Request.\n",
    "    \"\"\"\n",
    "    async with AsyncClient(base_url=BASE_URL) as client:\n",
    "        resp = await client.get(\"/docSegmentado/secciones/abc\", params={\"nregistro\": \"51347\"})\n",
    "    assert resp.status_code == 400\n"
   ]
  }
 ],
 "metadata": {
  "language_info": {
   "name": "python"
  }
 },
 "nbformat": 4,
 "nbformat_minor": 5
}
